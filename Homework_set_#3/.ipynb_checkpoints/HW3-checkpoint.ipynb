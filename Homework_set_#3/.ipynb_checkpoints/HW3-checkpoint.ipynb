{
 "cells": [
  {
   "cell_type": "markdown",
   "metadata": {},
   "source": [
    "# HW 3 Perceptrons and SVMs\n",
    "\n",
    "Kendra Chalkley \n",
    "\n",
    "May 24, 2018"
   ]
  },
  {
   "cell_type": "code",
   "execution_count": 2,
   "metadata": {},
   "outputs": [],
   "source": [
    "import pandas as pd\n",
    "import numpy as np\n",
    "import matplotlib.pyplot as plt\n",
    "%matplotlib inline"
   ]
  },
  {
   "cell_type": "markdown",
   "metadata": {},
   "source": [
    "## 1. Perceptron"
   ]
  },
  {
   "cell_type": "markdown",
   "metadata": {},
   "source": [
    "Below I've read in the data including a column of ones to augment the set and interface with the intercpet/threshold. "
   ]
  },
  {
   "cell_type": "code",
   "execution_count": 3,
   "metadata": {},
   "outputs": [],
   "source": [
    "dataX= np.array([[1,1,1,1,1,1,1,1,1],\n",
    "                 [-1,2,2,0,.5,3.5,3,5,5.5],\n",
    "                 [-1,0,1,1,1.5,2.5,4,2,3]])\n",
    "dataX=dataX.T\n",
    "\n",
    "datay=np.array([1,1,1,1,1,-1,-1,-1,-1])"
   ]
  },
  {
   "cell_type": "markdown",
   "metadata": {},
   "source": [
    "Perceptron algorithm is below:"
   ]
  },
  {
   "cell_type": "code",
   "execution_count": 4,
   "metadata": {},
   "outputs": [],
   "source": [
    "def perceptron(X, y):\n",
    "    n=X.shape[0]\n",
    "    d=X.shape[1]\n",
    "    classified=['F']*n\n",
    "     \n",
    "    i=0\n",
    "    t=0\n",
    "    iternum=16\n",
    "    w=np.ones((2,d))\n",
    "    weights=np.random.randn(d)\n",
    "    w[0]=weights\n",
    "  \n",
    "    while (('F' in classified) & (t<iternum)):\n",
    "        datum=X[i]\n",
    "        yhat=np.dot(weights,datum)\n",
    "        sign=y[i]*yhat\n",
    "        \n",
    "    ##Print Statements    \n",
    "#        print('t:',t)\n",
    "#        print('i:',i)\n",
    "#        print('datum:',datum)\n",
    "#        print('weights:',weights)\n",
    "#        print('class:',classified)\n",
    "#        print('y:',y[i])\n",
    "#        print('yhat:',yhat)\n",
    "    ##Print Statements\n",
    "        \n",
    "        if sign >0:\n",
    "            classified[i]='T'\n",
    "        else:\n",
    "            weights=weights-(datum*y[i])\n",
    "            print('weights after mod:',weights)\n",
    "            classified[i]='F'\n",
    "        i=(i+1)%n\n",
    "        t+=1\n",
    "    w[1]=weights\n",
    " \n",
    "    return w\n",
    "    "
   ]
  },
  {
   "cell_type": "markdown",
   "metadata": {},
   "source": [
    "Running the algorithm"
   ]
  },
  {
   "cell_type": "code",
   "execution_count": 5,
   "metadata": {},
   "outputs": [
    {
     "name": "stdout",
     "output_type": "stream",
     "text": [
      "weights after mod: [-0.32424096  2.02839779  2.4445886 ]\n",
      "weights after mod: [0.67575904 5.52839779 4.9445886 ]\n",
      "weights after mod: [1.67575904 8.52839779 8.9445886 ]\n",
      "weights after mod: [ 2.67575904 13.52839779 10.9445886 ]\n",
      "weights after mod: [ 3.67575904 19.02839779 13.9445886 ]\n",
      "weights after mod: [ 2.67575904 20.02839779 14.9445886 ]\n",
      "weights after mod: [ 3.67575904 23.52839779 17.4445886 ]\n",
      "weights after mod: [ 4.67575904 26.52839779 21.4445886 ]\n"
     ]
    }
   ],
   "source": [
    "w=perceptron(dataX,datay)"
   ]
  },
  {
   "cell_type": "markdown",
   "metadata": {},
   "source": [
    "Data manipulation:"
   ]
  },
  {
   "cell_type": "code",
   "execution_count": 23,
   "metadata": {},
   "outputs": [],
   "source": [
    "dataX\n",
    "pdata=pd.DataFrame({'X':dataX[:,1],\n",
    "                   'Y':dataX[:,2],\n",
    "                   'Class':datay})\n",
    "\n",
    "class1=pdata.where(pdata['Class']==1)\n",
    "class2=pdata.where(pdata['Class']==-1)"
   ]
  },
  {
   "cell_type": "markdown",
   "metadata": {},
   "source": [
    "Plotting: class 1 in blue, class 2 in red, initial weights in purple, final weights in green. "
   ]
  },
  {
   "cell_type": "code",
   "execution_count": 24,
   "metadata": {},
   "outputs": [
    {
     "data": {
      "text/plain": [
       "[<matplotlib.lines.Line2D at 0x7f5a7c1740b8>]"
      ]
     },
     "execution_count": 24,
     "metadata": {},
     "output_type": "execute_result"
    },
    {
     "data": {
      "image/png": "[encoded data removed]",
      "text/plain": [
       "<Figure size 1152x432 with 1 Axes>"
      ]
     },
     "metadata": {},
     "output_type": "display_data"
    }
   ],
   "source": [
    "plt.figure(figsize=(16,6))\n",
    "plt.plot(class1['X'],class1['Y'],'o', color='blue')\n",
    "plt.plot(class2['X'],class2['Y'],'o', color='red')\n",
    "\n",
    "weights=w[0]\n",
    "plt.plot(\n",
    "    [5, (-5*weights[1]/weights[2])],\n",
    "    [0,(-weights[0]/weights[2])], color='purple'\n",
    ")\n",
    "\n",
    "weights=w[1]\n",
    "plt.plot(\n",
    "    [5, (-5*weights[1]/weights[2])],\n",
    "    [0,(-weights[0]/weights[2])],color='green'\n",
    ")"
   ]
  },
  {
   "cell_type": "markdown",
   "metadata": {},
   "source": [
    "### Summary:\n",
    "\n",
    "Initial weights: "
   ]
  },
  {
   "cell_type": "code",
   "execution_count": 25,
   "metadata": {},
   "outputs": [
    {
     "data": {
      "text/plain": [
       "array([-1.06033109,  0.46278717,  1.5149618 ])"
      ]
     },
     "execution_count": 25,
     "metadata": {},
     "output_type": "execute_result"
    }
   ],
   "source": [
    "w[0]"
   ]
  },
  {
   "cell_type": "markdown",
   "metadata": {},
   "source": [
    "Final weights: "
   ]
  },
  {
   "cell_type": "code",
   "execution_count": 26,
   "metadata": {},
   "outputs": [
    {
     "data": {
      "text/plain": [
       "array([ 2.93966891, 25.96278717, 21.5149618 ])"
      ]
     },
     "execution_count": 26,
     "metadata": {},
     "output_type": "execute_result"
    }
   ],
   "source": [
    "w[1]"
   ]
  },
  {
   "cell_type": "markdown",
   "metadata": {},
   "source": [
    "Plot and code above. \n",
    "\n",
    "Questions: \n",
    "a) Is data linearly seperable? Yes. \n",
    "b) Does it work? Nope. Not entirely sure why not. But nope. \n",
    "c) It does not converge in <n iterations like it should, I put an arbitrary cap on iterations of 15 to prevent it from running forever. "
   ]
  },
  {
   "cell_type": "markdown",
   "metadata": {},
   "source": [
    "## 2 SVM"
   ]
  },
  {
   "cell_type": "markdown",
   "metadata": {},
   "source": [
    "Load training data:"
   ]
  },
  {
   "cell_type": "code",
   "execution_count": 7,
   "metadata": {},
   "outputs": [],
   "source": [
    "pima_train=pd.read_csv('pima_train.txt',sep='  ', engine='python',header=None)\n",
    "\n",
    "pima_train_x=pima_train.iloc[:,0:-1]\n",
    "pima_train_y=pima_train.iloc[:,-1].replace(0,-1)\n"
   ]
  },
  {
   "cell_type": "markdown",
   "metadata": {},
   "source": [
    "Load test data:"
   ]
  },
  {
   "cell_type": "code",
   "execution_count": 8,
   "metadata": {},
   "outputs": [],
   "source": [
    "pima_test=pd.read_csv('pima_test.txt',sep='  ', engine='python',header=None)\n",
    "\n",
    "pima_test_x=pima_test.iloc[:,0:-1]\n",
    "pima_test_y=pima_test.iloc[:,-1].replace(0,-1)"
   ]
  },
  {
   "cell_type": "markdown",
   "metadata": {},
   "source": [
    "Call solver to learn boundary:"
   ]
  },
  {
   "cell_type": "code",
   "execution_count": 9,
   "metadata": {},
   "outputs": [
    {
     "name": "stderr",
     "output_type": "stream",
     "text": [
      "/home/kchalk/anaconda3/lib/python3.6/site-packages/sklearn/svm/base.py:218: ConvergenceWarning: Solver terminated early (max_iter=10000).  Consider pre-processing your data with StandardScaler or MinMaxScaler.\n",
      "  % self.max_iter, ConvergenceWarning)\n"
     ]
    },
    {
     "data": {
      "text/plain": [
       "SVC(C=0.5, cache_size=200, class_weight=None, coef0=0.0,\n",
       "  decision_function_shape='ovr', degree=3, gamma='auto', kernel='linear',\n",
       "  max_iter=10000, probability=False, random_state=3, shrinking=True,\n",
       "  tol=0.005, verbose=False)"
      ]
     },
     "execution_count": 9,
     "metadata": {},
     "output_type": "execute_result"
    }
   ],
   "source": [
    "from sklearn.svm import SVC\n",
    "\n",
    "clf = SVC(C=.5,kernel='linear', max_iter=10000, random_state=3, tol=0.005)\n",
    "\n",
    "clf.fit(pima_train_x, pima_train_y)  \n"
   ]
  },
  {
   "cell_type": "markdown",
   "metadata": {},
   "source": [
    "Mean misclassification error for training set: "
   ]
  },
  {
   "cell_type": "code",
   "execution_count": 10,
   "metadata": {},
   "outputs": [
    {
     "data": {
      "text/plain": [
       "0.686456400742115"
      ]
     },
     "execution_count": 10,
     "metadata": {},
     "output_type": "execute_result"
    }
   ],
   "source": [
    "clf.score(pima_train_x, pima_train_y)"
   ]
  },
  {
   "cell_type": "markdown",
   "metadata": {},
   "source": [
    "Mean misclassification error for test set: "
   ]
  },
  {
   "cell_type": "code",
   "execution_count": 11,
   "metadata": {},
   "outputs": [
    {
     "data": {
      "text/plain": [
       "0.6768558951965066"
      ]
     },
     "execution_count": 11,
     "metadata": {},
     "output_type": "execute_result"
    }
   ],
   "source": [
    "clf.score(pima_test_x, pima_test_y)"
   ]
  },
  {
   "cell_type": "markdown",
   "metadata": {},
   "source": [
    "Shenanigans and confusion matrix:"
   ]
  },
  {
   "cell_type": "code",
   "execution_count": 12,
   "metadata": {},
   "outputs": [
    {
     "data": {
      "text/html": [
       "<div>\n",
       "<style scoped>\n",
       "    .dataframe tbody tr th:only-of-type {\n",
       "        vertical-align: middle;\n",
       "    }\n",
       "\n",
       "    .dataframe tbody tr th {\n",
       "        vertical-align: top;\n",
       "    }\n",
       "\n",
       "    .dataframe thead th {\n",
       "        text-align: right;\n",
       "    }\n",
       "</style>\n",
       "<table border=\"1\" class=\"dataframe\">\n",
       "  <thead>\n",
       "    <tr style=\"text-align: right;\">\n",
       "      <th></th>\n",
       "      <th></th>\n",
       "      <th>n</th>\n",
       "    </tr>\n",
       "    <tr>\n",
       "      <th>truth</th>\n",
       "      <th>predict</th>\n",
       "      <th></th>\n",
       "    </tr>\n",
       "  </thead>\n",
       "  <tbody>\n",
       "    <tr>\n",
       "      <th rowspan=\"2\" valign=\"top\">-1.0</th>\n",
       "      <th>-1.0</th>\n",
       "      <td>103</td>\n",
       "    </tr>\n",
       "    <tr>\n",
       "      <th>1.0</th>\n",
       "      <td>58</td>\n",
       "    </tr>\n",
       "    <tr>\n",
       "      <th rowspan=\"2\" valign=\"top\">1.0</th>\n",
       "      <th>-1.0</th>\n",
       "      <td>16</td>\n",
       "    </tr>\n",
       "    <tr>\n",
       "      <th>1.0</th>\n",
       "      <td>52</td>\n",
       "    </tr>\n",
       "  </tbody>\n",
       "</table>\n",
       "</div>"
      ],
      "text/plain": [
       "                 n\n",
       "truth predict     \n",
       "-1.0  -1.0     103\n",
       "       1.0      58\n",
       " 1.0  -1.0      16\n",
       "       1.0      52"
      ]
     },
     "execution_count": 12,
     "metadata": {},
     "output_type": "execute_result"
    }
   ],
   "source": [
    "combined=pd.DataFrame({\n",
    "    'truth':pima_test_y, \n",
    "    'predict':clf.predict(pima_test_x)\n",
    "})\n",
    "\n",
    "combined['n']=combined['truth']-combined['predict']\n",
    "\n",
    "#combined=combined.replace(0,'y')\n",
    "#combined=combined.replace(2,'n')\n",
    "#combined=combined.replace(-2,'n')\n",
    "\n",
    "combined.groupby(['truth','predict']).count()"
   ]
  }
 ],
 "metadata": {
  "kernelspec": {
   "display_name": "Python 3",
   "language": "python",
   "name": "python3"
  },
  "language_info": {
   "codemirror_mode": {
    "name": "ipython",
    "version": 3
   },
   "file_extension": ".py",
   "mimetype": "text/x-python",
   "name": "python",
   "nbconvert_exporter": "python",
   "pygments_lexer": "ipython3",
   "version": "3.6.4"
  }
 },
 "nbformat": 4,
 "nbformat_minor": 2
}
