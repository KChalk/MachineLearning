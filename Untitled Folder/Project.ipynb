{
 "cells": [
  {
   "cell_type": "markdown",
   "metadata": {},
   "source": [
    "# Final project\n",
    "\n",
    "## Goals\n",
    "\n",
    "Write an agglomerative clustering algorithm for Reddit data. \n",
    "\n",
    "## Packages and data"
   ]
  },
  {
   "cell_type": "code",
   "execution_count": 1,
   "metadata": {},
   "outputs": [],
   "source": [
    "import pandas as pd\n",
    "import numpy as np\n",
    "import matplotlib.pyplot as plt\n",
    "% matplotlib inline\n",
    "\n",
    "from sklearn.cluster import AgglomerativeClustering\n",
    "from sklearn.cluster import KMeans\n",
    "from sklearn.decomposition import PCA\n",
    "\n",
    "data= pd.read_csv('medoutput.csv')\n",
    "subset_data= pd.read_csv('subset_medoutput.csv')\n",
    "\n",
    "freqs=data.loc[:,list(set(data.columns) - set(('subreddit','count(1)','sum(wordcount)')))]\n",
    "subset_freqs=subset_data.loc[:,list(set(data.columns) - set(('subreddit','count(1)','sum(wordcount)')))]\n"
   ]
  },
  {
   "cell_type": "code",
   "execution_count": 4,
   "metadata": {},
   "outputs": [],
   "source": [
    "def normalize(vector):\n",
    "    v2=vector\n",
    "    vmin=float(min(vector))\n",
    "    vmax=float(max(vector))\n",
    "    vrange=vmax-vmin\n",
    "\n",
    "#    print('vector', vector, vrange)\n",
    "    \n",
    "    l=len(vector)\n",
    "    for i in range(0,l):\n",
    "        dif=float(vector[i])-vmin\n",
    "#        print('dif',dif, vrange, dif/vrange)\n",
    "        v2[i]=dif/vrange\n",
    "#        print(vector[i])\n",
    "    return v2\n",
    "\n",
    "def normalizeall(df):\n",
    "    df2=df\n",
    "    i=df.shape[1]\n",
    "    for j in range(0,i):\n",
    "        df2[:,j]=normalize(df2[:,j])\n",
    "    return df2\n",
    "\n",
    "nfreqs=normalizeall(np.array(freqs))\n",
    "nsubset_freqs=normalizeall(np.array(subset_freqs))\n"
   ]
  },
  {
   "cell_type": "markdown",
   "metadata": {},
   "source": [
    "## Agglomerative Clustering"
   ]
  },
  {
   "cell_type": "code",
   "execution_count": null,
   "metadata": {},
   "outputs": [],
   "source": [
    "model=AgglomerativeClustering(n_clusters=5, affinity='euclidean', memory='cacheing/', \n",
    "                        connectivity=None, \n",
    "                        compute_full_tree='auto', \n",
    "                        linkage='average')"
   ]
  },
  {
   "cell_type": "code",
   "execution_count": null,
   "metadata": {},
   "outputs": [],
   "source": [
    "# empty for running one liners\n"
   ]
  },
  {
   "cell_type": "code",
   "execution_count": null,
   "metadata": {
    "scrolled": true
   },
   "outputs": [],
   "source": [
    "model.fit(freqs)\n",
    "#plt.figure()\n",
    "#plt.axes([0, 0, 1, 1])\n",
    "#for l, c in zip(np.arange(model.n_clusters), 'rgbk'):\n",
    "#    plt.plot(freqs[model.labels_ == l].T, c=c, alpha=.5)\n",
    "#plt.axis('tight')\n",
    "#plt.axis('off')\n",
    "#plt.suptitle(\"AgglomerativeClustering(affinity=%s)\" % 'euclidean', size=20)\n",
    "\n",
    "\n",
    "#plt.show()"
   ]
  },
  {
   "cell_type": "markdown",
   "metadata": {},
   "source": [
    "## PCA"
   ]
  },
  {
   "cell_type": "code",
   "execution_count": 5,
   "metadata": {},
   "outputs": [
    {
     "name": "stdout",
     "output_type": "stream",
     "text": [
      "[0.35848253 0.46920433 0.55192831 0.61015088 0.65064647 0.68666371\n",
      " 0.71611313 0.74025542 0.75889239 0.77706586 0.79236383 0.80681975\n",
      " 0.81982697 0.83258554 0.84343975 0.8537413  0.8636177  0.87298631\n",
      " 0.88201249 0.89043796 0.89845107 0.90565287 0.91226499 0.91870521\n",
      " 0.92447256 0.92988555 0.93522638 0.9400221  0.94456915 0.94897278\n",
      " 0.95289629 0.95653855 0.96000835 0.96332653 0.96647122 0.96956244\n",
      " 0.972389   0.97508389 0.97747105 0.97975434 0.9819836  0.98405385\n",
      " 0.9860295  0.98785793 0.9894579  0.99098479 0.99231753 0.9935682\n",
      " 0.9946293  0.99568673 0.99660829 0.99739323 0.99805745 0.99870935\n",
      " 0.99910447 0.99948844 0.99977799 0.99985878 0.99992079 0.99996141\n",
      " 0.99998045 0.99999722 0.99999855 0.99999955 1.         0.        ]\n",
      "[ 1.10721796e-01  8.27239843e-02  5.82225655e-02  4.04955922e-02\n",
      "  3.60172360e-02  2.94494208e-02  2.41422951e-02  1.86369644e-02\n",
      "  1.81734784e-02  1.52979623e-02  1.44559240e-02  1.30072236e-02\n",
      "  1.27585663e-02  1.08542110e-02  1.03015511e-02  9.87639327e-03\n",
      "  9.36861391e-03  9.02617816e-03  8.42546836e-03  8.01311196e-03\n",
      "  7.20180633e-03  6.61211909e-03  6.44021337e-03  5.76735433e-03\n",
      "  5.41298973e-03  5.34083323e-03  4.79571155e-03  4.54705661e-03\n",
      "  4.40363080e-03  3.92350394e-03  3.64226310e-03  3.46980297e-03\n",
      "  3.31817434e-03  3.14469098e-03  3.09122231e-03  2.82656397e-03\n",
      "  2.69488849e-03  2.38716082e-03  2.28328545e-03  2.22926265e-03\n",
      "  2.07024756e-03  1.97564749e-03  1.82843316e-03  1.59997355e-03\n",
      "  1.52688680e-03  1.33274014e-03  1.25066566e-03  1.06110035e-03\n",
      "  1.05743448e-03  9.21560977e-04  7.84934610e-04  6.64221161e-04\n",
      "  6.51898885e-04  3.95119784e-04  3.83972269e-04  2.89547153e-04\n",
      "  8.07922153e-05  6.20159021e-05  4.06117459e-05  1.90402198e-05\n",
      "  1.67743238e-05  1.32574614e-06  1.00163011e-06  4.52473224e-07\n",
      " -1.00000000e+00  0.00000000e+00]\n"
     ]
    },
    {
     "data": {
      "text/plain": [
       "0.9056528740210282"
      ]
     },
     "execution_count": 5,
     "metadata": {},
     "output_type": "execute_result"
    },
    {
     "data": {
      "image/png": "[encoded data removed]",
      "text/plain": [
       "<Figure size 432x288 with 1 Axes>"
      ]
     },
     "metadata": {},
     "output_type": "display_data"
    }
   ],
   "source": [
    "exp_var_rat=np.zeros(66)\n",
    "change=np.zeros(66)\n",
    "\n",
    "for componentsN in range(65,0,-1):\n",
    "    pca=PCA(n_components=componentsN)\n",
    "    pca.fit(nfreqs)\n",
    "#    print(\"components\",componentsN)\n",
    "#    print(\"explained variance\", pca.explained_variance_ratio_)\n",
    "#    print(\" sum explained variance\", sum(pca.explained_variance_ratio_))\n",
    "    exp_var_rat[componentsN-1]=sum(pca.explained_variance_ratio_)\n",
    "    change[componentsN-1]=exp_var_rat[componentsN]-exp_var_rat[componentsN-1]\n",
    "print(exp_var_rat)\n",
    "print(change)\n",
    "\n",
    "\n",
    "plt.plot(exp_var_rat[:64])\n",
    "plt.plot(change[:64])\n",
    "                \n",
    "exp_var_rat[21]"
   ]
  },
  {
   "cell_type": "code",
   "execution_count": 24,
   "metadata": {
    "scrolled": false
   },
   "outputs": [
    {
     "name": "stdout",
     "output_type": "stream",
     "text": [
      "d1\n",
      "Index(['adverbfreq', 'ifreq', 'pronounfreq'], dtype='object')\n",
      "d2\n",
      "Index(['shehefreq', 'biofreq', 'socialfreq'], dtype='object')\n",
      "d3\n",
      "Index(['ifreq', 'angerfreq', 'socialfreq'], dtype='object')\n",
      "d4\n",
      "Index(['negemofreq', 'socialfreq', 'sadfreq'], dtype='object')\n",
      "d5\n",
      "Index(['youfreq', 'pastfreq', 'numberfreq'], dtype='object')\n",
      "d6\n",
      "Index(['bodyfreq', 'biofreq', 'perceptfreq'], dtype='object')\n",
      "d7\n",
      "Index(['insightfreq', 'timefreq', 'wefreq'], dtype='object')\n",
      "d8\n",
      "Index(['leisurefreq', 'healthfreq', 'biofreq'], dtype='object')\n",
      "d9\n",
      "Index(['causefreq', 'familyfreq', 'negatefreq'], dtype='object')\n",
      "d10\n",
      "Index(['insightfreq', 'swearfreq', 'inhibfreq'], dtype='object')\n",
      "d11\n",
      "Index(['workfreq', 'insightfreq', 'ingestfreq'], dtype='object')\n",
      "d12\n",
      "Index(['perceptfreq', 'inhibfreq', 'numberfreq'], dtype='object')\n",
      "d13\n",
      "Index(['youfreq', 'theyfreq', 'inclfreq'], dtype='object')\n",
      "d14\n",
      "Index(['shehefreq', 'theyfreq', 'friendfreq'], dtype='object')\n",
      "d15\n",
      "Index(['hearfreq', 'certainfreq', 'quantfreq'], dtype='object')\n",
      "d16\n",
      "Index(['theyfreq', 'workfreq', 'friendfreq'], dtype='object')\n",
      "d17\n",
      "Index(['homefreq', 'theyfreq', 'friendfreq'], dtype='object')\n",
      "d18\n",
      "Index(['familyfreq', 'hearfreq', 'wefreq'], dtype='object')\n",
      "d19\n",
      "Index(['ingestfreq', 'healthfreq', 'hearfreq'], dtype='object')\n",
      "d20\n",
      "Index(['sadfreq', 'friendfreq', 'angerfreq'], dtype='object')\n",
      "d21\n",
      "Index(['numberfreq', 'ingestfreq', 'inhibfreq'], dtype='object')\n"
     ]
    }
   ],
   "source": [
    "hyperC=21\n",
    "dimlabellist=['d1','d2','d3','d4','d5','d6','d7','d8','d9','d10','d11','d12','d13','d14','d15','d16','d17','d18','d19','d20','d21']\n",
    "pca=PCA(n_components=hyperC)\n",
    "nred_data=pca.fit_transform(nfreqs)\n",
    "numnfreqs=np.array(nfreqs)\n",
    "\n",
    "\n",
    "'''#10*65 version\n",
    "cov=np.zeros((10,65))\n",
    "for od in range (0,65):\n",
    "    #print(od, nfreqs[:,od])\n",
    "    for pc in range (0,10):\n",
    "        #print(pc,red_data[:,pc])\n",
    "        cov[pc,od]=np.correlate(nfreqs[:,od],red_data[:,pc])\n",
    "cov=pd.DataFrame(cov,columns=list(freqs))\n",
    "print(cov)\n",
    "'''\n",
    "\n",
    "#65*10 version\n",
    "\n",
    "cov=np.zeros((65,hyperC))\n",
    "\n",
    "for od in range (0,65):\n",
    "    #print(od, nfreqs[:,od])\n",
    "    for pc in range (0,hyperC):\n",
    "        #print(pc,red_data[:,pc])\n",
    "        cov[od,pc]=np.correlate(numnfreqs[:,od],nred_data[:,pc])\n",
    "        \n",
    "cov=pd.DataFrame(cov,index=list(freqs),columns=dimlabellist)\n",
    "\n",
    "abscov=abs(cov)\n",
    "\n",
    "abscov.sort_values(by=['d11'],ascending=False)\n",
    "\n",
    "for column in abscov.columns:\n",
    "    print(column)\n",
    "    print(abscov.sort_values(by=column,ascending=False).head(3).index)\n",
    "\n"
   ]
  },
  {
   "cell_type": "code",
   "execution_count": 7,
   "metadata": {},
   "outputs": [
    {
     "data": {
      "text/plain": [
       "(1224, 68)"
      ]
     },
     "execution_count": 7,
     "metadata": {},
     "output_type": "execute_result"
    }
   ],
   "source": [
    "data.shape"
   ]
  },
  {
   "cell_type": "code",
   "execution_count": 25,
   "metadata": {},
   "outputs": [
    {
     "name": "stdout",
     "output_type": "stream",
     "text": [
      "d1\n",
      "Index(['functfreq', 'pronounfreq', 'cogmechfreq'], dtype='object')\n",
      "d2\n",
      "Index(['functfreq', 'socialfreq', 'cogmechfreq'], dtype='object')\n",
      "d3\n",
      "Index(['ifreq', 'socialfreq', 'affectfreq'], dtype='object')\n",
      "d4\n",
      "Index(['socialfreq', 'functfreq', 'ppronfreq'], dtype='object')\n",
      "d5\n",
      "Index(['functfreq', 'relativfreq', 'articlefreq'], dtype='object')\n",
      "d6\n",
      "Index(['relativfreq', 'functfreq', 'prepsfreq'], dtype='object')\n",
      "d7\n",
      "Index(['relativfreq', 'timefreq', 'articlefreq'], dtype='object')\n",
      "d8\n",
      "Index(['moneyfreq', 'leisurefreq', 'relativfreq'], dtype='object')\n",
      "d9\n",
      "Index(['ifreq', 'cogmechfreq', 'moneyfreq'], dtype='object')\n",
      "d10\n",
      "Index(['shehefreq', 'workfreq', 'perceptfreq'], dtype='object')\n",
      "d11\n",
      "Index(['workfreq', 'ifreq', 'shehefreq'], dtype='object')\n",
      "d12\n",
      "Index(['moneyfreq', 'functfreq', 'workfreq'], dtype='object')\n",
      "d13\n",
      "Index(['shehefreq', 'workfreq', 'presentfreq'], dtype='object')\n",
      "d14\n",
      "Index(['workfreq', 'functfreq', 'ifreq'], dtype='object')\n",
      "d15\n",
      "Index(['youfreq', 'ppronfreq', 'pronounfreq'], dtype='object')\n",
      "d16\n",
      "Index(['workfreq', 'auxverbfreq', 'causefreq'], dtype='object')\n",
      "d17\n",
      "Index(['workfreq', 'youfreq', 'prepsfreq'], dtype='object')\n",
      "d18\n",
      "Index(['functfreq', 'familyfreq', 'religfreq'], dtype='object')\n",
      "d19\n",
      "Index(['socialfreq', 'ingestfreq', 'shehefreq'], dtype='object')\n",
      "d20\n",
      "Index(['ppronfreq', 'pronounfreq', 'youfreq'], dtype='object')\n",
      "d21\n",
      "Index(['cogmechfreq', 'leisurefreq', 'homefreq'], dtype='object')\n"
     ]
    }
   ],
   "source": [
    "hyperC=21\n",
    "\n",
    "pca=PCA(n_components=hyperC)\n",
    "nred_subdata=pca.fit_transform(nsubset_freqs)\n",
    "nsfreqs=np.array(subset_freqs)\n",
    "\n",
    "\n",
    "'''#10*65 version\n",
    "cov=np.zeros((10,65))\n",
    "for od in range (0,65):\n",
    "    #print(od, nfreqs[:,od])\n",
    "    for pc in range (0,10):\n",
    "        #print(pc,red_data[:,pc])\n",
    "        cov[pc,od]=np.correlate(nfreqs[:,od],red_data[:,pc])\n",
    "cov=pd.DataFrame(cov,columns=list(freqs))\n",
    "print(cov)\n",
    "'''\n",
    "\n",
    "#65*10 version\n",
    "\n",
    "cov=np.zeros((65,hyperC))\n",
    "\n",
    "for od in range (0,65):\n",
    "    #print(od, nfreqs[:,od])\n",
    "    for pc in range (0,hyperC):\n",
    "        #print(pc,red_data[:,pc])\n",
    "        cov[od,pc]=np.correlate(nsfreqs[:,od],red_subdata[:,pc])\n",
    "cov=pd.DataFrame(cov,index=list(subset_freqs),columns=dimlabellist,)\n",
    "\n",
    "abscov=abs(cov)\n",
    "\n",
    "abscov.to_csv('subset_covariance')\n",
    "\n",
    "for column in abscov.columns:\n",
    "    print(column)\n",
    "    print(abscov.sort_values(by=column,ascending=False).head(3).index)\n"
   ]
  },
  {
   "cell_type": "markdown",
   "metadata": {},
   "source": [
    "## Kmeans on PCA\n",
    "### larger daatset"
   ]
  },
  {
   "cell_type": "code",
   "execution_count": 29,
   "metadata": {},
   "outputs": [
    {
     "name": "stdout",
     "output_type": "stream",
     "text": [
      "[-940.56553759 -709.32323996 -572.07142709 -512.58872902 -482.48580315\n",
      " -453.35732781 -434.22208597 -417.08747202 -400.77653029 -386.72456129\n",
      " -370.70964886 -359.04357479 -346.54552986 -337.18250693 -331.42321004\n",
      " -322.83340834 -317.0702543  -309.07185753 -303.2527321  -297.57288878\n",
      " -293.3871901  -287.9372342  -282.3860888  -277.10862619 -274.20881039]\n",
      "[-709.32323996 -572.07142709 -512.58872902 -482.48580315 -453.35732781\n",
      " -434.22208597 -417.08747202 -400.77653029 -386.72456129 -370.70964886\n",
      " -359.04357479 -346.54552986 -337.18250693 -331.42321004 -322.83340834\n",
      " -317.0702543  -309.07185753 -303.2527321  -297.57288878 -293.3871901\n",
      " -287.9372342  -282.3860888  -277.10862619 -274.20881039 -666.35672721]\n"
     ]
    },
    {
     "data": {
      "text/plain": [
       "[<matplotlib.lines.Line2D at 0x7f4e49499748>]"
      ]
     },
     "execution_count": 29,
     "metadata": {},
     "output_type": "execute_result"
    },
    {
     "data": {
      "image/png": "[encoded data removed]",
      "text/plain": [
       "<Figure size 432x288 with 1 Axes>"
      ]
     },
     "metadata": {},
     "output_type": "display_data"
    }
   ],
   "source": [
    "hyper=25\n",
    "\n",
    "cluster_score=np.zeros(hyper)\n",
    "change=np.zeros(hyper)\n",
    "\n",
    "for clustersN in range(hyper,0,-1):\n",
    "    kmeans=KMeans(n_clusters=clustersN)\n",
    "    kmeans.fit(nred_data)\n",
    "    cluster_score[clustersN-1]=kmeans.score(nred_data)\n",
    "    change[clustersN-2]=cluster_score[clustersN-1]-cluster_score[clustersN-2]\n",
    "\n",
    "print(cluster_score)\n",
    "\n",
    "print(change)\n",
    "plt.plot(cluster_score)\n",
    "plt.plot(change[:-1])"
   ]
  },
  {
   "cell_type": "code",
   "execution_count": 20,
   "metadata": {},
   "outputs": [
    {
     "name": "stdout",
     "output_type": "stream",
     "text": [
      "[[-5.68629896e-01  1.76908820e-01 -3.60441779e-01  3.27612969e-01\n",
      "   1.25499580e-02  3.08095137e-02  8.25741580e-02 -1.16940797e-01\n",
      "   4.47989987e-02  1.07332345e-01  5.95630014e-03 -2.72544270e-03\n",
      "   2.29275110e-02 -2.42814597e-02  1.50826232e-02 -2.30628408e-02\n",
      "  -1.66624661e-02 -2.07491191e-02  2.00159556e-02 -4.61932268e-03\n",
      "  -1.78739361e-02]\n",
      " [-3.33036920e-02 -2.77753187e-01 -1.10782346e-01 -4.65940717e-02\n",
      "  -4.63401046e-02 -3.82358204e-03 -3.31789097e-03  2.15481602e-02\n",
      "  -2.58066208e-03 -3.21812049e-02  1.73097079e-03  5.93168337e-04\n",
      "  -1.47658437e-03 -8.51807029e-03  2.03362905e-03 -1.38278920e-03\n",
      "   3.97127577e-03  3.94751547e-03 -8.19463115e-04  4.55293851e-03\n",
      "   3.83472018e-03]\n",
      " [ 1.75110122e+00  4.73686921e-01 -2.90226897e-01  7.30467923e-03\n",
      "   1.29526901e-01 -1.72004164e-01 -6.35791778e-02  3.70719527e-02\n",
      "   4.68641580e-02 -8.04675195e-03 -1.76597930e-02 -4.49535169e-03\n",
      "   9.41040258e-03 -2.58926389e-02  2.16833161e-02 -4.47061380e-03\n",
      "  -2.41471026e-03  1.71627421e-02  2.46640740e-02  1.85381403e-02\n",
      "  -5.98135161e-03]\n",
      " [-6.20337097e-01  3.46690485e-01 -4.90401698e-02 -2.07094924e-01\n",
      "   8.16475690e-02 -4.45975184e-02 -2.86072796e-02  2.50364376e-02\n",
      "  -4.89969447e-03 -1.54943108e-02 -9.08849134e-03  2.12216934e-03\n",
      "  -1.10299331e-03  1.25530326e-02 -4.35671730e-03  7.49327065e-03\n",
      "   1.82297553e-02  1.56258121e-02 -8.28501521e-03 -9.71420393e-03\n",
      "  -5.54644338e-04]\n",
      " [ 3.84866393e-03  3.62339071e-02  3.01860369e-01  1.19363228e-01\n",
      "  -4.14117147e-02  2.03501882e-02 -3.64990744e-02  1.40312673e-02\n",
      "   1.60514293e-03 -1.08891953e-02 -4.74232033e-03 -1.40877684e-02\n",
      "  -8.28915031e-03  8.23227365e-03  1.91388193e-03  5.01939750e-03\n",
      "  -1.55681101e-02  6.63373363e-03 -3.59275961e-03  1.83445666e-04\n",
      "   3.92071749e-05]\n",
      " [ 7.53213206e-01  6.10872783e-02 -3.47469987e-02  1.47630075e-02\n",
      "  -1.04588156e-02  3.05516046e-02  1.03729494e-02 -2.17177793e-02\n",
      "  -4.75879102e-02  3.88279211e-02  1.13334035e-03 -3.28224311e-03\n",
      "  -1.40037656e-03  2.96165831e-02 -4.14732004e-02  1.56019691e-02\n",
      "   2.14251239e-02 -2.86939721e-02 -1.07756690e-02 -3.36913068e-02\n",
      "   9.60903654e-03]\n",
      " [ 2.56006302e-01 -1.17417735e-01  2.80426650e-01 -3.53309693e-01\n",
      "   2.32525130e-01  1.28358454e-01  2.57462154e-01 -1.28008989e-01\n",
      "  -1.97713406e-02  1.17593488e-01  5.54172169e-02  9.92075944e-02\n",
      "   1.68800731e-02 -7.30486956e-03  1.39427080e-02 -2.77034049e-02\n",
      "  -3.72154118e-03 -5.43554130e-02  1.42406573e-02  5.24119870e-02\n",
      "  -7.20029562e-03]]\n",
      "[\"['asktransgender', 'Anxiety', 'keto', 'loseit', 'SuicideWatch', 'Drugs', 'stopdrinking', 'AskDocs', 'NoFap', 'depression']\", \"['jobs', 'learnprogramming', 'xboxone', 'noncensored_bitcoin', 'btc', 'CryptoCurrency', 'Bitcoin', 'pcmasterrace', 'techsupport', 'personalfinance']\", \"['brasil', 'funkoswap', 'makeupexchange', 'csgo_trading', 'soccer', 'csgotrade', 'SteamGameSwap', 'indiegameswap', 'RocketLeagueExchange', 'GlobalOffensiveTrade']\", \"['dirtykikpals', 'raisedbynarcissists', 'offmychest', 'Advice', 'relationship_advice', 'Roleplaykik', 'AgeplayPenPals', 'legaladvice', 'relationships', 'dirtypenpals']\", \"['gaming', 'tipofmytongue', 'removalbot', 'copypasta', 'WWII', 'DestinyTheGame', 'DnD', 'leagueoflegends', 'Overwatch', 'StarWarsBattlefront']\", \"['nba', 'pokemontrades', 'mechmarket', 'fantasyfootball', 'worldpowers', 'hardwareswap', 'noveltranslations', 'SteamTradingCards', 'buildapc', 'autotldr']\", \"['playrustlfg', 'forhire', 'lfg', 'swgoh_guilds', 'FFXIVRECRUITMENT', 'PickupBusinessShares', 'ClashOfClansRecruit', 'wowguilds', 'buildapcforme', 'SuggestALaptop']\"]\n"
     ]
    }
   ],
   "source": [
    "hyperC=7\n",
    "kmeans=KMeans(n_clusters=hyperC)\n",
    "\n",
    "predictions=kmeans.fit_predict(nred_data)\n",
    "\n",
    "kmeans.score(nred_data)\n",
    "print(kmeans.cluster_centers_)\n",
    "\n",
    "\n",
    "\n",
    "data['cluster']=predictions\n",
    "\n",
    "clabels= []\n",
    "\n",
    "for c in range(0,hyperC):\n",
    "    #print(c,'\\n') \n",
    "    #print(kmeans.cluster_centers_[c])\n",
    "    clabels.append(str(list(data[data['cluster']==c].sort_values(by='count(1)').tail(10)['subreddit'])))\n",
    "\n",
    "print(clabels)"
   ]
  },
  {
   "cell_type": "code",
   "execution_count": 22,
   "metadata": {},
   "outputs": [],
   "source": [
    "centers=pd.DataFrame(kmeans.cluster_centers_,index=clabels, columns=dimlabellist)\n",
    "centers.to_csv('centers')"
   ]
  },
  {
   "cell_type": "markdown",
   "metadata": {},
   "source": [
    "### smaller data"
   ]
  },
  {
   "cell_type": "code",
   "execution_count": 33,
   "metadata": {},
   "outputs": [
    {
     "name": "stdout",
     "output_type": "stream",
     "text": [
      "[[-2.86595974e-02 -1.20015271e-01  3.73528325e-01 -2.70800290e-01\n",
      "   7.61984658e-04  6.45522675e-02 -2.69527494e-02  1.48279685e-02\n",
      "   8.71989136e-02 -4.62016440e-02 -4.14721244e-02 -3.23800735e-03\n",
      "  -8.27122426e-03  8.07683400e-03 -1.51118479e-02  1.30830968e-02\n",
      "  -4.48878576e-03  9.11915831e-03 -1.08774217e-02  1.64479835e-02\n",
      "   4.60349591e-03]\n",
      " [ 3.45895657e-01 -3.83815222e-01 -2.36556446e-01  5.20934793e-02\n",
      "   3.07422255e-03 -5.46748301e-02  1.75198560e-02  1.08090397e-02\n",
      "  -6.23360545e-02 -5.26396451e-02 -6.06483337e-02  1.27383634e-01\n",
      "  -3.52560163e-02 -8.56948649e-03 -1.48983837e-02  1.33639299e-02\n",
      "   2.43510047e-02  1.14129800e-02  8.42609359e-03  3.41506482e-02\n",
      "   2.21514816e-02]\n",
      " [ 2.19920051e+00  8.06413882e-01 -3.44281424e-01 -1.71801444e-01\n",
      "   2.40006911e-01 -3.28139389e-01  5.99888960e-02 -1.42899354e-02\n",
      "   2.61113078e-02  4.40670858e-03 -4.96577401e-02 -3.11714489e-02\n",
      "   5.43177541e-02 -1.30117000e-02 -3.26494092e-02 -1.57705800e-02\n",
      "  -2.62779437e-02  1.65220530e-02 -1.84694628e-02  1.62315440e-02\n",
      "   3.34048960e-02]\n",
      " [-5.79170374e-01  1.78371728e-01 -3.70795536e-01 -3.57440785e-01\n",
      "   7.31982063e-02  1.25618336e-01 -1.58952191e-01 -4.58275490e-02\n",
      "  -1.56768022e-01  3.02706642e-02  8.19186556e-02 -9.70603024e-03\n",
      "   2.76575655e-02 -2.70404576e-02  4.21038835e-02 -2.92560071e-02\n",
      "  -1.98860589e-02 -5.11424766e-02 -7.45371394e-03 -2.80981164e-02\n",
      "   1.96379580e-02]\n",
      " [ 8.15635974e-02 -2.35206620e-01  1.55375062e-01 -2.66073088e-02\n",
      "   5.14377556e-02  4.72782157e-02  4.53157580e-02  9.39207517e-02\n",
      "   1.63827816e-02 -4.03973883e-02  5.92594909e-02 -6.74561160e-02\n",
      "  -4.52516793e-02 -3.16514766e-02  3.84692247e-02  9.02155166e-03\n",
      "  -2.27268312e-02  2.83613135e-02 -4.78890918e-02 -3.96337181e-02\n",
      "   1.68697786e-02]\n",
      " [ 5.48619003e-01  2.02039936e-01  2.66074782e-01 -2.15478122e-02\n",
      "  -1.26415955e-01  9.37938773e-02 -7.30905263e-02 -1.35693354e-02\n",
      "  -5.56780528e-02  3.66090651e-03  3.23451752e-02  1.95280856e-02\n",
      "  -8.65038535e-03  2.36239577e-02 -1.89158873e-02  5.02567986e-02\n",
      "   5.74901206e-02  7.91179514e-03 -8.54983991e-03  1.02579792e-02\n",
      "  -3.18724946e-02]\n",
      " [ 1.26192294e+00  2.09027416e-01 -6.89473759e-02  2.04969961e-02\n",
      "  -2.77096299e-03 -8.23724368e-03 -8.22392913e-02 -6.98107289e-04\n",
      "   3.20722664e-02  1.34348567e-02  8.05807854e-02 -2.79706072e-02\n",
      "  -7.09199738e-02  1.75977795e-02  2.74620692e-02  2.97516933e-03\n",
      "   2.67785642e-02 -5.81137099e-02  2.87311671e-02 -1.31447109e-02\n",
      "  -1.76387873e-02]\n",
      " [-3.94279097e-01  1.74699558e-01  2.18596645e-02  2.89116703e-01\n",
      "   6.68032461e-01  1.90988294e-01  2.13337103e-01 -1.13035952e-01\n",
      "   9.82605621e-02 -1.47791645e-01  1.36490394e-01  6.34003414e-02\n",
      "   7.63316068e-02  4.92585914e-02  1.82484018e-02  1.80893776e-02\n",
      "   1.06365541e-01 -1.29639022e-03 -2.20308682e-02 -8.51717445e-04\n",
      "  -1.41903918e-02]\n",
      " [-1.73528849e-02 -3.58058646e-01 -1.52980266e-01  2.14831508e-01\n",
      "  -1.77133893e-01 -8.57712247e-02 -1.75987281e-01 -1.97571285e-01\n",
      "   8.71359153e-02  2.06071781e-02  5.93396293e-02 -5.92499411e-02\n",
      "  -2.07998660e-02  5.77355469e-02 -4.53087208e-03 -1.03157991e-02\n",
      "  -2.76825297e-02 -1.18628362e-02  2.14788519e-03 -6.89464569e-03\n",
      "   4.60967127e-03]\n",
      " [-6.77031923e-01  1.35305532e+00 -4.89599684e-01  3.26473166e-01\n",
      "  -6.62737172e-02  7.18865400e-01  2.56154889e-01 -1.71534674e-01\n",
      "   4.15441602e-01 -1.93210615e-03 -3.18850855e-02  3.22898802e-01\n",
      "  -4.31264212e-01 -3.38794208e-02  8.19682717e-02  1.20989326e-01\n",
      "  -1.95910833e-01  1.07727813e-01  7.14285701e-02 -4.53313549e-02\n",
      "   1.03758250e-01]\n",
      " [ 3.53672302e-01 -4.21435532e-02  5.27112034e-01  5.56217673e-01\n",
      "   4.93177648e-01  2.12891787e-01 -3.68533331e-01  1.22143111e-01\n",
      "  -1.18251677e-01  2.48928976e-01 -8.91934689e-02  6.69007424e-02\n",
      "   1.01693953e-01 -8.08303721e-02 -1.74798994e-02 -9.90241512e-02\n",
      "  -1.15343761e-01 -4.44804333e-02  5.85361908e-03  5.59611533e-03\n",
      "   5.21629237e-03]\n",
      " [-2.89436766e-02 -2.61431673e-01 -2.96431590e-01 -2.75071900e-02\n",
      "  -3.13308057e-02  8.76511052e-02  1.01302165e-01  5.76175638e-02\n",
      "   5.62496419e-02  3.25200768e-02 -6.07970216e-02  1.95875647e-02\n",
      "   5.63044031e-02 -6.98743987e-03 -2.48294252e-02  1.91623771e-02\n",
      "   1.10033977e-04  2.06823046e-02  2.66873443e-02  1.22012107e-02\n",
      "  -3.11014863e-02]\n",
      " [-1.48900879e-01  6.33273617e-02  2.43302133e-01  1.61308511e-02\n",
      "  -1.80601316e-01 -1.08815113e-01  2.08993063e-01 -2.90825012e-02\n",
      "  -1.13360347e-01  3.61833571e-02  3.85226254e-02 -6.17671209e-03\n",
      "   2.07226404e-02 -2.85784298e-03  1.35869028e-02 -5.70554291e-02\n",
      "  -9.00639515e-03  1.08458269e-02  2.59556043e-02 -1.27068725e-02\n",
      "  -1.26293526e-02]\n",
      " [-8.88295148e-01  3.34187857e-01 -3.19856563e-02  4.57128523e-02\n",
      "   1.33551683e-01 -2.58605675e-01 -6.69228951e-02  3.55287792e-02\n",
      "   3.08761705e-02  2.17337081e-02 -4.47365106e-02 -1.40256745e-03\n",
      "  -6.94043480e-02 -4.12684409e-03 -3.71383807e-02  2.17009614e-02\n",
      "   4.78011745e-02 -1.87548444e-02  4.34769347e-03  1.79317843e-02\n",
      "  -1.45037680e-02]\n",
      " [-3.80339838e-01  5.30589229e-01 -6.88668191e-02  2.77721493e-01\n",
      "  -3.29591584e-01  1.01244519e-01 -2.19962638e-02  4.01744960e-02\n",
      "  -1.38275148e-02 -5.46788077e-02 -9.10741081e-02 -6.26596850e-02\n",
      "   7.41908094e-02  1.96018463e-02  2.48949020e-02  2.39457959e-02\n",
      "  -2.17431233e-02  1.41644809e-03 -2.07263293e-02 -1.40617487e-03\n",
      "   3.47547085e-02]]\n",
      "[\"['heroesofthestorm', 'Rainbow6', 'Warframe', 'DotA2', 'wow', 'WWII', 'DestinyTheGame', 'leagueoflegends', 'Overwatch', 'StarWarsBattlefront']\", \"['homelab', 'DeltaLog', 'learnpython', 'excel', 'sysadmin', 'learnprogramming', 'buildapcforme', 'hardwareswap', 'SuggestALaptop', 'pcmasterrace']\", \"['Csgotrading', 'brasil', 'funkoswap', 'makeupexchange', 'csgo_trading', 'csgotrade', 'SteamGameSwap', 'indiegameswap', 'RocketLeagueExchange', 'GlobalOffensiveTrade']\", \"['SkincareAddiction', 'trees', 'ADHD', 'Anxiety', 'keto', 'loseit', 'Drugs', 'stopdrinking', 'AskDocs', 'NoFap']\", \"['Guildwars2', 'alwaystesting', 'PS4', 'RocketLeague', 'anime', 'NintendoSwitch', 'xboxone', 'FIFA', 'hearthstone', 'gaming']\", \"['FFBraveExvius', 'buzzfeedbot', 'Warhammer40k', 'PickupBusinessShares', 'whowouldwin', 'GlobalOffensive', 'nba', 'SquaredCircle', 'worldpowers', 'noveltranslations']\", \"['CollegeBasketball', 'soccer', 'SteamAccountsForSale', 'CFB', 'pokemontrades', 'mechmarket', 'fantasyfootball', 'SteamTradingCards', 'buildapc', 'autotldr']\", \"['MakeNewFriendsHere', 'BDSMpersonals', 'exxxchange', 'FurryKikPals', 'r4r', 'dirtyr4r', 'dirtykikpals', 'Roleplaykik', 'AgeplayPenPals', 'dirtypenpals']\", \"['Entrepreneur', 'PersonalFinanceCanada', 'ApplyingToCollege', 'cscareerquestions', 'jobs', 'noncensored_bitcoin', 'btc', 'CryptoCurrency', 'Bitcoin', 'personalfinance']\", \"['stupidslutsclub', 'incest', 'gonewildstories']\", \"[nan, 'mcservers', 'OverwatchLFT', 'hacker', 'FindAUnit', 'playrustlfg', 'swgoh_guilds', 'FFXIVRECRUITMENT', 'ClashOfClansRecruit', 'wowguilds']\", \"['firefox', 'Guitar', 'Twitch', 'iphone', 'apple', 'HomeImprovement', 'electronic_cigarette', 'MechanicAdvice', 'GooglePixel', 'techsupport']\", \"['Christianity', 'unpopularopinion', 'conspiracy', 'MGTOW', 'The_Donald', 'exmormon', 'tipofmytongue', 'removalbot', 'copypasta', 'DnD']\", \"['asktransgender', 'dating_advice', 'SuicideWatch', 'sex', 'raisedbynarcissists', 'offmychest', 'Advice', 'relationship_advice', 'depression', 'relationships']\", \"['Jokes', 'weddingplanning', 'Parenting', 'beyondthebump', 'SevenKingdoms', 'breakingmom', 'nosleep', 'dogs', 'JUSTNOMIL', 'legaladvice']\"]\n"
     ]
    }
   ],
   "source": [
    "hyperC=15\n",
    "kmeans=KMeans(n_clusters=hyperC)\n",
    "\n",
    "spredictions=kmeans.fit_predict(nred_subdata)\n",
    "\n",
    "kmeans.score(nred_subdata)\n",
    "print(kmeans.cluster_centers_)\n",
    "\n",
    "\n",
    "\n",
    "subset_data['cluster']=spredictions\n",
    "\n",
    "clabels= []\n",
    "\n",
    "for c in range(0,hyperC):\n",
    "    #print(c,'\\n') \n",
    "    #print(kmeans.cluster_centers_[c])\n",
    "    clabels.append(str(list(subset_data[subset_data['cluster']==c].sort_values(by='count(1)').tail(10)['subreddit'])))\n",
    "\n",
    "print(clabels)"
   ]
  },
  {
   "cell_type": "code",
   "execution_count": 32,
   "metadata": {},
   "outputs": [],
   "source": [
    "centers=pd.DataFrame(kmeans.cluster_centers_,index=clabels, columns=dimlabellist)\n",
    "centers.to_csv('subsetcenters')"
   ]
  }
 ],
 "metadata": {
  "kernelspec": {
   "display_name": "Python 3",
   "language": "python",
   "name": "python3"
  },
  "language_info": {
   "codemirror_mode": {
    "name": "ipython",
    "version": 3
   },
   "file_extension": ".py",
   "mimetype": "text/x-python",
   "name": "python",
   "nbconvert_exporter": "python",
   "pygments_lexer": "ipython3",
   "version": "3.6.4"
  }
 },
 "nbformat": 4,
 "nbformat_minor": 2
}
